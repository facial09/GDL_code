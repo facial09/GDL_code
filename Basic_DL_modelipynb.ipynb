{
  "nbformat": 4,
  "nbformat_minor": 0,
  "metadata": {
    "colab": {
      "name": "Basic_DL_modelipynb",
      "provenance": [],
      "authorship_tag": "ABX9TyNXDIGMwuIU7PLQkJSRxEZa",
      "include_colab_link": true
    },
    "kernelspec": {
      "name": "python3",
      "display_name": "Python 3"
    },
    "language_info": {
      "name": "python"
    },
    "accelerator": "GPU",
    "gpuClass": "standard"
  },
  "cells": [
    {
      "cell_type": "markdown",
      "metadata": {
        "id": "view-in-github",
        "colab_type": "text"
      },
      "source": [
        "<a href=\"https://colab.research.google.com/github/facial09/GDL_code/blob/master/Basic_DL_modelipynb.ipynb\" target=\"_parent\"><img src=\"https://colab.research.google.com/assets/colab-badge.svg\" alt=\"Open In Colab\"/></a>"
      ]
    },
    {
      "cell_type": "code",
      "source": [
        "import numpy as np\n",
        "from tensorflow.keras.utils import to_categorical\n",
        "from keras.datasets import cifar10\n",
        "from keras.models import Sequential,Model\n",
        "from keras.layers import Flatten, Dense,Input"
      ],
      "metadata": {
        "id": "flzPLIY0MN5N"
      },
      "execution_count": 1,
      "outputs": []
    },
    {
      "cell_type": "code",
      "source": [
        "(x_train, y_train),(x_test,y_test) = cifar10.load_data() # cifar10 데이터셋에서 이미지 로드하기.\n",
        "\n",
        "Num_Class = 10 # 10개의 레이블에 대해서 분류"
      ],
      "metadata": {
        "colab": {
          "base_uri": "https://localhost:8080/"
        },
        "id": "DC9wdLJbN6of",
        "outputId": "9fda0925-4134-45da-b6ee-b1db0c0568f3"
      },
      "execution_count": 2,
      "outputs": [
        {
          "output_type": "stream",
          "name": "stdout",
          "text": [
            "Downloading data from https://www.cs.toronto.edu/~kriz/cifar-10-python.tar.gz\n",
            "170500096/170498071 [==============================] - 4s 0us/step\n",
            "170508288/170498071 [==============================] - 4s 0us/step\n"
          ]
        }
      ]
    },
    {
      "cell_type": "code",
      "source": [
        "x_train = x_train.astype('float32') /255.0 # -1 ~ 1 사이 범위로 만들기 위해서 255.0으로 나누어줌. (이미지 데이터는 기본적은 256가지로 구성)\n",
        "x_test = x_test.astype('float32') / 255.0"
      ],
      "metadata": {
        "id": "VipOlfO9Ocel"
      },
      "execution_count": 3,
      "outputs": []
    },
    {
      "cell_type": "code",
      "source": [
        "y_train # 단순 숫자로 표현되어 있음."
      ],
      "metadata": {
        "colab": {
          "base_uri": "https://localhost:8080/"
        },
        "id": "v6QWLAlpUY_J",
        "outputId": "65fc91ac-9323-4fb4-a28e-9f51e9562b5c"
      },
      "execution_count": 4,
      "outputs": [
        {
          "output_type": "execute_result",
          "data": {
            "text/plain": [
              "array([[6],\n",
              "       [9],\n",
              "       [9],\n",
              "       ...,\n",
              "       [9],\n",
              "       [1],\n",
              "       [1]], dtype=uint8)"
            ]
          },
          "metadata": {},
          "execution_count": 4
        }
      ]
    },
    {
      "cell_type": "code",
      "source": [
        "y_train = to_categorical(y_train,Num_Class) # 원 핫 인코딩을 통해 클래스 개수의 벡터로 표현\n",
        "y_test = to_categorical(y_test,Num_Class)"
      ],
      "metadata": {
        "id": "1DMr0B05Ot-o"
      },
      "execution_count": 5,
      "outputs": []
    },
    {
      "cell_type": "code",
      "source": [
        "y_train "
      ],
      "metadata": {
        "colab": {
          "base_uri": "https://localhost:8080/"
        },
        "id": "Zkm1bHSWUkAm",
        "outputId": "eb45849f-f401-4f78-c27a-c1e3a819803b"
      },
      "execution_count": 6,
      "outputs": [
        {
          "output_type": "execute_result",
          "data": {
            "text/plain": [
              "array([[0., 0., 0., ..., 0., 0., 0.],\n",
              "       [0., 0., 0., ..., 0., 0., 1.],\n",
              "       [0., 0., 0., ..., 0., 0., 1.],\n",
              "       ...,\n",
              "       [0., 0., 0., ..., 0., 0., 1.],\n",
              "       [0., 1., 0., ..., 0., 0., 0.],\n",
              "       [0., 1., 0., ..., 0., 0., 0.]], dtype=float32)"
            ]
          },
          "metadata": {},
          "execution_count": 6
        }
      ]
    },
    {
      "cell_type": "code",
      "source": [
        "x_train[42,20,20,0] # 42번째 idx 사진의 (20,20)픽셀의 Red channel 값"
      ],
      "metadata": {
        "colab": {
          "base_uri": "https://localhost:8080/"
        },
        "id": "VIr5ZpdWPXPx",
        "outputId": "6a45db5d-31bc-4f42-f245-53071f4ac24a"
      },
      "execution_count": 7,
      "outputs": [
        {
          "output_type": "execute_result",
          "data": {
            "text/plain": [
              "0.49803922"
            ]
          },
          "metadata": {},
          "execution_count": 7
        }
      ]
    },
    {
      "cell_type": "markdown",
      "source": [
        "##**모델 만들기 (API 함수 // Sequential)**\n",
        "\n",
        "#### **Sequential** : 일렬로 층을 쌓는 네트워크를 빠르게 만들때 사용하기 좋음\n",
        "#### => 분기가 없어 이전 층이 그대로 다음 층으로 연결됨.  \n",
        "\n",
        "#### **함수형 API** : 다양한 형태의 네트워크를 유연성 있게 만들기에 적절함.\n",
        "#### => 여기서는 단순한 형태이더라도 함수형 API를 이용하기를 권장함."
      ],
      "metadata": {
        "id": "YGKe5l1gU0-c"
      }
    },
    {
      "cell_type": "markdown",
      "source": [
        "**Sequential model** "
      ],
      "metadata": {
        "id": "E997fCQWWJIs"
      }
    },
    {
      "cell_type": "code",
      "source": [
        "model = Sequential([\n",
        "Flatten(input_shape=(32,32,3)),\n",
        "Dense(200, activation='relu'),\n",
        "Dense(150, activation='relu'),\n",
        "Dense(10, activation='softmax')\n",
        "])\n"
      ],
      "metadata": {
        "id": "rJIeKEBjTkvQ"
      },
      "execution_count": 8,
      "outputs": []
    },
    {
      "cell_type": "markdown",
      "source": [
        "**API 함수**"
      ],
      "metadata": {
        "id": "NmEt2_DBY0Pb"
      }
    },
    {
      "cell_type": "code",
      "source": [
        "input_layer = Input(shape =(32,32,3))\n",
        "\n",
        "x = Flatten()(input_layer)\n",
        "\n",
        "x = Dense(units = 200, activation = 'relu')(x)\n",
        "x = Dense(units = 150, activation = 'relu')(x)\n",
        "\n",
        "output_layer = Dense(units=10, activation = 'softmax')(x)\n",
        "\n",
        "model_api = Model(input_layer,output_layer)"
      ],
      "metadata": {
        "id": "4a5FcrM6WEVM"
      },
      "execution_count": 9,
      "outputs": []
    },
    {
      "cell_type": "markdown",
      "source": [
        "# **모델 확인하기**\n",
        "## **Sequential**"
      ],
      "metadata": {
        "id": "R9IS4dY6l-lz"
      }
    },
    {
      "cell_type": "code",
      "source": [
        " model.summary()"
      ],
      "metadata": {
        "colab": {
          "base_uri": "https://localhost:8080/"
        },
        "id": "gKUd6I4VZG73",
        "outputId": "bb05b741-43dd-43d4-93a1-e16f037590ed"
      },
      "execution_count": 10,
      "outputs": [
        {
          "output_type": "stream",
          "name": "stdout",
          "text": [
            "Model: \"sequential\"\n",
            "_________________________________________________________________\n",
            " Layer (type)                Output Shape              Param #   \n",
            "=================================================================\n",
            " flatten (Flatten)           (None, 3072)              0         \n",
            "                                                                 \n",
            " dense (Dense)               (None, 200)               614600    \n",
            "                                                                 \n",
            " dense_1 (Dense)             (None, 150)               30150     \n",
            "                                                                 \n",
            " dense_2 (Dense)             (None, 10)                1510      \n",
            "                                                                 \n",
            "=================================================================\n",
            "Total params: 646,260\n",
            "Trainable params: 646,260\n",
            "Non-trainable params: 0\n",
            "_________________________________________________________________\n"
          ]
        }
      ]
    },
    {
      "cell_type": "markdown",
      "source": [
        "## **API Function**"
      ],
      "metadata": {
        "id": "4OARSUxomIlE"
      }
    },
    {
      "cell_type": "code",
      "source": [
        "model_api.summary()"
      ],
      "metadata": {
        "colab": {
          "base_uri": "https://localhost:8080/"
        },
        "id": "6aE_GhN8liYt",
        "outputId": "7edb3174-8222-4fa1-873b-4dc3ce178d1f"
      },
      "execution_count": 11,
      "outputs": [
        {
          "output_type": "stream",
          "name": "stdout",
          "text": [
            "Model: \"model\"\n",
            "_________________________________________________________________\n",
            " Layer (type)                Output Shape              Param #   \n",
            "=================================================================\n",
            " input_1 (InputLayer)        [(None, 32, 32, 3)]       0         \n",
            "                                                                 \n",
            " flatten_1 (Flatten)         (None, 3072)              0         \n",
            "                                                                 \n",
            " dense_3 (Dense)             (None, 200)               614600    \n",
            "                                                                 \n",
            " dense_4 (Dense)             (None, 150)               30150     \n",
            "                                                                 \n",
            " dense_5 (Dense)             (None, 10)                1510      \n",
            "                                                                 \n",
            "=================================================================\n",
            "Total params: 646,260\n",
            "Trainable params: 646,260\n",
            "Non-trainable params: 0\n",
            "_________________________________________________________________\n"
          ]
        }
      ]
    },
    {
      "cell_type": "markdown",
      "source": [
        "## **모델 컴파일**"
      ],
      "metadata": {
        "id": "XaBYIQKol94p"
      }
    },
    {
      "cell_type": "code",
      "source": [
        "from tensorflow.keras.optimizers import Adam"
      ],
      "metadata": {
        "id": "xloocY6BnDOY"
      },
      "execution_count": 12,
      "outputs": []
    },
    {
      "cell_type": "code",
      "source": [
        "opt = Adam(lr = 0.0005)\n",
        "model.compile(loss = 'categorical_crossentropy',optimizer = opt, metrics=['accuracy'])\n",
        "model_api.compile(loss = 'categorical_crossentropy',optimizer = opt, metrics=['accuracy'])"
      ],
      "metadata": {
        "colab": {
          "base_uri": "https://localhost:8080/"
        },
        "id": "bkon6ddInIyK",
        "outputId": "d3ed5d19-1c84-4f20-bbb8-3fd451ad31cc"
      },
      "execution_count": 13,
      "outputs": [
        {
          "output_type": "stream",
          "name": "stderr",
          "text": [
            "/usr/local/lib/python3.7/dist-packages/keras/optimizer_v2/adam.py:105: UserWarning: The `lr` argument is deprecated, use `learning_rate` instead.\n",
            "  super(Adam, self).__init__(name, **kwargs)\n"
          ]
        }
      ]
    },
    {
      "cell_type": "markdown",
      "source": [
        "## **모델 훈련**"
      ],
      "metadata": {
        "id": "Bj-pPMhynh9u"
      }
    },
    {
      "cell_type": "code",
      "source": [
        "model.fit(x_train,\n",
        "          y_train,\n",
        "          batch_size = 32,\n",
        "          epochs = 10,\n",
        "          shuffle = True)\n",
        "# model_api.fit(x_train,\n",
        "#           y_train,\n",
        "#           batch_size = 32,\n",
        "#           epochs = 10,\n",
        "#           shuffle = True)"
      ],
      "metadata": {
        "colab": {
          "base_uri": "https://localhost:8080/"
        },
        "id": "CjDsD4QBneGO",
        "outputId": "c251a411-f223-4e52-ecf3-b32b645988e8"
      },
      "execution_count": 14,
      "outputs": [
        {
          "output_type": "stream",
          "name": "stdout",
          "text": [
            "Epoch 1/10\n",
            "1563/1563 [==============================] - 7s 3ms/step - loss: 1.8421 - accuracy: 0.3348\n",
            "Epoch 2/10\n",
            "1563/1563 [==============================] - 7s 4ms/step - loss: 1.6705 - accuracy: 0.4002\n",
            "Epoch 3/10\n",
            "1563/1563 [==============================] - 7s 4ms/step - loss: 1.5874 - accuracy: 0.4332\n",
            "Epoch 4/10\n",
            "1563/1563 [==============================] - 4s 3ms/step - loss: 1.5315 - accuracy: 0.4557\n",
            "Epoch 5/10\n",
            "1563/1563 [==============================] - 5s 3ms/step - loss: 1.4960 - accuracy: 0.4665\n",
            "Epoch 6/10\n",
            "1563/1563 [==============================] - 5s 3ms/step - loss: 1.4625 - accuracy: 0.4771\n",
            "Epoch 7/10\n",
            "1563/1563 [==============================] - 5s 3ms/step - loss: 1.4330 - accuracy: 0.4888\n",
            "Epoch 8/10\n",
            "1563/1563 [==============================] - 5s 3ms/step - loss: 1.4099 - accuracy: 0.4996\n",
            "Epoch 9/10\n",
            "1563/1563 [==============================] - 4s 3ms/step - loss: 1.3893 - accuracy: 0.5052\n",
            "Epoch 10/10\n",
            "1563/1563 [==============================] - 4s 3ms/step - loss: 1.3688 - accuracy: 0.5141\n"
          ]
        },
        {
          "output_type": "execute_result",
          "data": {
            "text/plain": [
              "<keras.callbacks.History at 0x7fc71069bad0>"
            ]
          },
          "metadata": {},
          "execution_count": 14
        }
      ]
    },
    {
      "cell_type": "markdown",
      "source": [
        "## **모델예측***"
      ],
      "metadata": {
        "id": "IxhY84EPp5Bg"
      }
    },
    {
      "cell_type": "code",
      "source": [
        "model.evaluate(x_test,y_test)"
      ],
      "metadata": {
        "colab": {
          "base_uri": "https://localhost:8080/"
        },
        "id": "OMhDo_9wn2v9",
        "outputId": "c152aef7-e0d3-4e8f-be06-9369b5e0ed8e"
      },
      "execution_count": 15,
      "outputs": [
        {
          "output_type": "stream",
          "name": "stdout",
          "text": [
            "313/313 [==============================] - 1s 2ms/step - loss: 1.4692 - accuracy: 0.4770\n"
          ]
        },
        {
          "output_type": "execute_result",
          "data": {
            "text/plain": [
              "[1.4692295789718628, 0.47699999809265137]"
            ]
          },
          "metadata": {},
          "execution_count": 15
        }
      ]
    },
    {
      "cell_type": "code",
      "source": [
        "Class = np.array(['airplane','automobile','bird','cat','deer','dog','frog','horse','ship','truck'])\n",
        "preds = model.predict(x_test) # [10000,10]의 배열\n",
        "preds_single = Class[np.argmax(preds, axis = -1)] # 하나의 예측 값으로 바꾸기, (예측한 값)\n",
        "actual_single = Class[np.argmax(y_test,axis = -1)] # 실제 정답을 하나의 값으로 바꾸기 (실제 레이블링 된 값)"
      ],
      "metadata": {
        "id": "kk9klO1qqAqR"
      },
      "execution_count": 16,
      "outputs": []
    },
    {
      "cell_type": "code",
      "source": [
        "preds_single"
      ],
      "metadata": {
        "colab": {
          "base_uri": "https://localhost:8080/"
        },
        "id": "G9J_jmnGqjAF",
        "outputId": "772e4c47-faa8-4686-a777-2877767708f3"
      },
      "execution_count": 17,
      "outputs": [
        {
          "output_type": "execute_result",
          "data": {
            "text/plain": [
              "array(['cat', 'automobile', 'ship', ..., 'dog', 'bird', 'horse'],\n",
              "      dtype='<U10')"
            ]
          },
          "metadata": {},
          "execution_count": 17
        }
      ]
    },
    {
      "cell_type": "code",
      "source": [
        "actual_single"
      ],
      "metadata": {
        "colab": {
          "base_uri": "https://localhost:8080/"
        },
        "id": "prN4Nk7uq9Po",
        "outputId": "c2b2dd4e-8762-49e3-d07f-6a90c440749e"
      },
      "execution_count": 18,
      "outputs": [
        {
          "output_type": "execute_result",
          "data": {
            "text/plain": [
              "array(['cat', 'ship', 'ship', ..., 'dog', 'automobile', 'horse'],\n",
              "      dtype='<U10')"
            ]
          },
          "metadata": {},
          "execution_count": 18
        }
      ]
    },
    {
      "cell_type": "code",
      "source": [
        "import matplotlib.pyplot as plt\n",
        "\n",
        "n_to_show = 10\n",
        "indices = np.random.choice(range(len(x_test)),n_to_show)\n",
        "\n",
        "fig = plt.figure(figsize=(15,3))\n",
        "fig.subplots_adjust(hspace = 0.4, wspace =0.4)\n",
        "\n",
        "for i, idx in enumerate(indices):\n",
        "  img = x_test[idx]\n",
        "  ax = fig.add_subplot(1,n_to_show,i+1)\n",
        "  ax.axis('off')\n",
        "  ax.text(0.5,-0.35,'pred = '+str(preds_single[idx]), fontsize =10,ha='center',transform=ax.transAxes)\n",
        "  ax.text(0.5,-0.7,'act = '+str(actual_single[idx]), fontsize = 10, ha='center',transform=ax.transAxes)\n",
        "  ax.imshow(img)"
      ],
      "metadata": {
        "colab": {
          "base_uri": "https://localhost:8080/",
          "height": 138
        },
        "id": "x2mY_zHhq-pK",
        "outputId": "24c4900d-2db8-4cc0-cf0e-34644fc76fd8"
      },
      "execution_count": 21,
      "outputs": [
        {
          "output_type": "display_data",
          "data": {
            "text/plain": [
              "<Figure size 1080x216 with 10 Axes>"
            ],
            "image/png": "[encoded data removed]"
          },
          "metadata": {
            "needs_background": "light"
          }
        }
      ]
    }
  ]
}